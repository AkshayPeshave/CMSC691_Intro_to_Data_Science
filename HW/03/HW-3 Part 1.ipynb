{
 "cells": [
  {
   "cell_type": "code",
   "execution_count": 3,
   "metadata": {
    "collapsed": true
   },
   "outputs": [],
   "source": [
    "import pandas as pd\n",
    "import numpy as np\n",
    "import math, sys, pickle\n",
    "import scipy.misc as smp\n",
    "from sklearn.preprocessing import MinMaxScaler\n",
    "import matplotlib.pyplot as plt"
   ]
  },
  {
   "cell_type": "code",
   "execution_count": 4,
   "metadata": {
    "collapsed": true
   },
   "outputs": [],
   "source": [
    "def printProgress(iteration, total, prefix='', suffix='', decimals=1, barLength=100):\n",
    "    '''\n",
    "\n",
    "    :param iteration: Required  : current iteration (Int)\n",
    "    :param total: Required  : total iterations (Int)\n",
    "    :param prefix: Optional  : prefix string (Str)\n",
    "    :param suffix: Optional  : suffix string (Str)\n",
    "    :param decimals: Optional  : positive number of decimals in percent complete (Int)\n",
    "    :param barLength: Optional  : character length of bar (Int)\n",
    "    :return:\n",
    "    '''\n",
    "\n",
    "    formatStr = \"{0:.\" + str(decimals) + \"f}\"\n",
    "    percents = formatStr.format(100 * (iteration / float(total)))\n",
    "    filledLength = int(round(barLength * iteration / float(total)))\n",
    "    bar = '=' * filledLength + '-' * (barLength - filledLength)\n",
    "    sys.stdout.write('\\r%s |%s| %s%s %s' % (prefix, bar, percents, '%', suffix)),\n",
    "    if iteration == total:\n",
    "        sys.stdout.write('\\n')\n",
    "    sys.stdout.flush()"
   ]
  },
  {
   "cell_type": "code",
   "execution_count": 5,
   "metadata": {
    "collapsed": true
   },
   "outputs": [],
   "source": [
    "observations = pd.read_csv('mnist_data.txt', header=None, sep=' ')\n",
    "labels = pd.read_csv('mnist_labels.txt', header=None)"
   ]
  },
  {
   "cell_type": "code",
   "execution_count": 6,
   "metadata": {
    "collapsed": false
   },
   "outputs": [],
   "source": [
    "labels.loc[labels[0]!=8,0]=0\n",
    "labels.loc[labels[0]==8,0]=1"
   ]
  },
  {
   "cell_type": "code",
   "execution_count": 7,
   "metadata": {
    "collapsed": false
   },
   "outputs": [],
   "source": [
    "nFeatures = len(observations.columns)\n",
    "nObservations = len(observations)"
   ]
  },
  {
   "cell_type": "code",
   "execution_count": 8,
   "metadata": {
    "collapsed": false,
    "scrolled": false
   },
   "outputs": [],
   "source": [
    "def train(runId):\n",
    "    w=pd.Series([0]*nFeatures)\n",
    "    convergence=0\n",
    "    eta=1\n",
    "    delta=0\n",
    "\n",
    "    iteration=1\n",
    "\n",
    "\n",
    "    while iteration<50:\n",
    "        gradientVector = pd.Series([0]*nFeatures)\n",
    "        for index in range(nObservations):\n",
    "            try:\n",
    "                p = 1/(1+np.exp(-1*(observations.loc[index].dot(w))))\n",
    "            except OverflowError:\n",
    "                p=0\n",
    "            error = labels.loc[index,0]-p\n",
    "            gradientVector=gradientVector.add(observations.loc[index].multiply(error))\n",
    "            #for feature in range(n_features):\n",
    "            #    gradient_vector[feature]+=error*observations.loc[index,feature]\n",
    "            printProgress(index+1, nObservations, prefix='Iteration '+str(iteration)+':', suffix='', barLength=50)\n",
    "\n",
    "        w=w.add(gradientVector.multiply(eta*np.exp(-iteration/3.0)))\n",
    "\n",
    "        iteration+=1\n",
    "\n",
    "\n",
    "    with open('lr_weight_vector_'+runId+'.pkl','wb') as outFile:\n",
    "        pickle.dump(w,outFile)"
   ]
  },
  {
   "cell_type": "code",
   "execution_count": 9,
   "metadata": {
    "collapsed": true
   },
   "outputs": [],
   "source": [
    "def train_new(runId, eta, stepInterval):\n",
    "    w=pd.Series([0]*nFeatures)\n",
    "    convergence=0\n",
    "    # eta=0.5\n",
    "    delta=0\n",
    "\n",
    "    iteration=1\n",
    "\n",
    "\n",
    "    while iteration<50:\n",
    "        gradientVector = pd.Series([0]*nFeatures)\n",
    "        for index in range(nObservations):\n",
    "            try:\n",
    "                p = 1/(1+np.exp(-1*(observations.loc[index].dot(w))))\n",
    "            except OverflowError:\n",
    "                p=0\n",
    "            error = labels.loc[index,0]-p\n",
    "            gradientVector=gradientVector.add(observations.loc[index].multiply(error))\n",
    "        w=w.add(gradientVector.multiply(eta*np.exp(-iteration/stepInterval)))\n",
    "    \n",
    "        printProgress(iteration, 50, prefix='Training :', suffix='Iteration '+str(iteration), barLength=50)\n",
    "        iteration+=1\n",
    "\n",
    "    with open('lr_weight_vector_'+runId+'.pkl','wb') as outFile:\n",
    "        pickle.dump(w,outFile)"
   ]
  },
  {
   "cell_type": "code",
   "execution_count": 10,
   "metadata": {
    "collapsed": true
   },
   "outputs": [],
   "source": [
    "def test(runId):\n",
    "    with open('lr_weight_vector_'+runId+'.pkl','rb') as inFile:\n",
    "        w=pickle.load(inFile)\n",
    "    correctPredictions=0.0\n",
    "    prediction=1\n",
    "    for index in range(nObservations):\n",
    "        try:\n",
    "            p = 1/(1+np.exp(-1*(observations.loc[index].dot(w))))\n",
    "        except OverflowError:\n",
    "            p=0\n",
    "        if p>=0.5: prediction=1\n",
    "        else: prediction=0\n",
    "        if labels.loc[index,0]-prediction==0: correctPredictions+=1\n",
    "        \n",
    "    print('Run ID \"'+runId+'\" : '+str(correctPredictions/nObservations))\n",
    "    "
   ]
  },
  {
   "cell_type": "code",
   "execution_count": 11,
   "metadata": {
    "collapsed": true
   },
   "outputs": [],
   "source": [
    "def paintWeightVector(runId, imageInterpolationType='nearest'):\n",
    "    with open('lr_weight_vector_'+runId+'.pkl','rb') as inFile:\n",
    "        w=pickle.load(inFile)\n",
    "    w=w.multiply(-1)\n",
    "    w=w.values.reshape(-1,1)\n",
    "    \n",
    "    scaler = MinMaxScaler(feature_range=(0,255), copy=True)\n",
    "    wScaled = scaler.fit_transform(w) \n",
    "    \n",
    "    pixelMap = wScaled.reshape((28,28))\n",
    "\n",
    "    fig, ax =plt.subplots(figsize=(2,2))\n",
    "    ax.imshow(pixelMap, cmap='gray', interpolation=imageInterpolationType)\n",
    "    plt.savefig('weightVector_pixelMap_'+imageInterpolationType+'.png')\n",
    "    plt.show()"
   ]
  },
  {
   "cell_type": "code",
   "execution_count": 12,
   "metadata": {
    "collapsed": false
   },
   "outputs": [
    {
     "data": {
      "image/png": "[encoded data removed]",
      "text/plain": [
       "<matplotlib.figure.Figure at 0x7fe8ce923e10>"
      ]
     },
     "metadata": {},
     "output_type": "display_data"
    }
   ],
   "source": [
    "paintWeightVector(\"eta0.1_step50\", 'bilinear')"
   ]
  },
  {
   "cell_type": "code",
   "execution_count": 14,
   "metadata": {
    "collapsed": false
   },
   "outputs": [
    {
     "name": "stderr",
     "output_type": "stream",
     "text": [
      "/usr/local/lib/python2.7/dist-packages/ipykernel/__main__.py:8: RuntimeWarning: overflow encountered in exp\n"
     ]
    },
    {
     "name": "stdout",
     "output_type": "stream",
     "text": [
      "Run ID \"eta0.1_step5\" : 0.9188\n",
      "Run ID \"eta0.1_step50\" : 0.9367\n",
      "Run ID \"eta0.0001_step50\" : 0.9198\n",
      "Run ID \"eta1_step3\" : 0.9013\n",
      "Run ID \"eta0.5_step5\" : 0.9192\n"
     ]
    }
   ],
   "source": [
    "runs=['eta0.1_step5','eta0.1_step50','eta0.0001_step50','eta1_step3','eta0.5_step5']\n",
    "for run in runs:\n",
    "    test(run)\n"
   ]
  },
  {
   "cell_type": "code",
   "execution_count": 17,
   "metadata": {
    "collapsed": false
   },
   "outputs": [
    {
     "name": "stderr",
     "output_type": "stream",
     "text": [
      "/usr/local/lib/python2.7/dist-packages/ipykernel/__main__.py:8: RuntimeWarning: overflow encountered in exp\n"
     ]
    },
    {
     "name": "stdout",
     "output_type": "stream",
     "text": [
      "Run ID \"eta0.5_step10\" : 0.93\n"
     ]
    }
   ],
   "source": [
    "test('eta0.5_step10')"
   ]
  },
  {
   "cell_type": "code",
   "execution_count": null,
   "metadata": {
    "collapsed": true
   },
   "outputs": [],
   "source": []
  }
 ],
 "metadata": {
  "kernelspec": {
   "display_name": "Python 2",
   "language": "python",
   "name": "python2"
  },
  "language_info": {
   "codemirror_mode": {
    "name": "ipython",
    "version": 2
   },
   "file_extension": ".py",
   "mimetype": "text/x-python",
   "name": "python",
   "nbconvert_exporter": "python",
   "pygments_lexer": "ipython2",
   "version": "2.7.12"
  }
 },
 "nbformat": 4,
 "nbformat_minor": 1
}
